





print("Hello World")
print("what's your name ?")
name = input()
print("It's goog to meet you, " + name)
print("Your name is of length " + str(len(name)))
print("whats's your age ? ")
age = input()
print("You will be "+str(int(age)+1)+" years old in a year")





import numpy as np

print(np.__version__)
np.show_config()


a = np.arange(10)
# a.ndim
# a.shape
# a.size


z = np.zeros(10)
z.shape


ar = np.arange(10, 51)


np.flip(ar)


np.arange(0,9).reshape((3,3))


values = [1,2,0,0,4,0]


np.nonzero(values)


np.random.rand(3,3,3)


rand_ten = np.random.rand(10,10)
rand_ten


np.max(rand_ten)


np.min(rand_ten)


rand_thirty = np.random.rand(30)
rand_thirty


np.mean(rand_thirty)


x = np.ones((10,10))
x


x[1:-1, 1:-1] = 0
x


m1 = np.random.rand(5,3)
m1


m2 = np.random.rand(3,2)
m2


np.dot(m1,m2)


np.matmul(m1,m2)


a1 = np.arange(1,5)
a2 = np.arange(2,6)


a1


a2


a1*a2

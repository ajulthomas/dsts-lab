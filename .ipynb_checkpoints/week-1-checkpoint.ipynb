{
 "cells": [
  {
   "cell_type": "markdown",
   "id": "bb516940-778f-4e7e-b897-9a7aec73d464",
   "metadata": {},
   "source": [
    "# Week 1 - Introduction"
   ]
  },
  {
   "cell_type": "markdown",
   "id": "ce8520fc-a58d-4397-b5ea-f9083544411e",
   "metadata": {},
   "source": [
    "### Excercise - 1"
   ]
  },
  {
   "cell_type": "code",
   "execution_count": 4,
   "id": "ace8969d-9dba-4c01-90e7-fe34e29425c0",
   "metadata": {},
   "outputs": [
    {
     "name": "stdout",
     "output_type": "stream",
     "text": [
      "Hello World\n",
      "what's your name ?\n"
     ]
    },
    {
     "name": "stdin",
     "output_type": "stream",
     "text": [
      " ajul\n"
     ]
    },
    {
     "name": "stdout",
     "output_type": "stream",
     "text": [
      "It's goog to meet you, ajul\n",
      "Your name is of length4\n",
      "whats's your age ? \n"
     ]
    },
    {
     "name": "stdin",
     "output_type": "stream",
     "text": [
      " 27\n"
     ]
    },
    {
     "name": "stdout",
     "output_type": "stream",
     "text": [
      "You will be28 years old in a year\n"
     ]
    }
   ],
   "source": [
    "print(\"Hello World\")\n",
    "print(\"what's your name ?\")\n",
    "name = input()\n",
    "print(\"It's goog to meet you, \" + name)\n",
    "print(\"Your name is of length \" + str(len(name)))\n",
    "print(\"whats's your age ? \")\n",
    "age = input()\n",
    "print(\"You will be \"+str(int(age)+1)+\" years old in a year\")"
   ]
  },
  {
   "cell_type": "code",
   "execution_count": null,
   "id": "6fddfd17-88dd-458f-a21d-611d791cb181",
   "metadata": {},
   "outputs": [],
   "source": []
  },
  {
   "cell_type": "code",
   "execution_count": null,
   "id": "3fdfcc8e-8979-4986-9baa-954bc9e56ce4",
   "metadata": {},
   "outputs": [],
   "source": []
  }
 ],
 "metadata": {
  "kernelspec": {
   "display_name": "Python 3 (ipykernel)",
   "language": "python",
   "name": "python3"
  },
  "language_info": {
   "codemirror_mode": {
    "name": "ipython",
    "version": 3
   },
   "file_extension": ".py",
   "mimetype": "text/x-python",
   "name": "python",
   "nbconvert_exporter": "python",
   "pygments_lexer": "ipython3",
   "version": "3.11.5"
  }
 },
 "nbformat": 4,
 "nbformat_minor": 5
}

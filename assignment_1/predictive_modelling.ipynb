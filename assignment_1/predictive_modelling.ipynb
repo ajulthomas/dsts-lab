{
 "cells": [
  {
   "cell_type": "markdown",
   "metadata": {},
   "source": [
    "## Data Science Technology and Systems PG\n",
    "\n",
    "### Assignment 1 - Part B : Predictive Modelling\n"
   ]
  },
  {
   "cell_type": "markdown",
   "metadata": {},
   "source": [
    "#### Import required libraries\n"
   ]
  },
  {
   "cell_type": "code",
   "execution_count": 1,
   "metadata": {},
   "outputs": [],
   "source": [
    "import pandas as pd\n",
    "import numpy as np\n",
    "import matplotlib.pyplot as plt\n",
    "import seaborn as sns\n",
    "from sklearn.preprocessing import StandardScaler\n",
    "from sklearn.model_selection import train_test_split\n",
    "from sklearn.linear_model import LogisticRegression\n",
    "from sklearn.metrics import classification_report, confusion_matrix\n",
    "from sklearn.metrics import accuracy_score\n",
    "from sklearn.metrics import roc_auc_score"
   ]
  },
  {
   "cell_type": "markdown",
   "metadata": {
    "vscode": {
     "languageId": "plaintext"
    }
   },
   "source": [
    "#### Load and Inspect Data\n"
   ]
  },
  {
   "cell_type": "code",
   "execution_count": 2,
   "metadata": {},
   "outputs": [
    {
     "data": {
      "text/plain": [
       "(10500, 17)"
      ]
     },
     "execution_count": 2,
     "metadata": {},
     "output_type": "execute_result"
    }
   ],
   "source": [
    "# load the data\n",
    "df = pd.read_csv(\"./data/zomato_df_final_data.csv\")\n",
    "\n",
    "# print the shape of the data\n",
    "df.shape"
   ]
  },
  {
   "cell_type": "code",
   "execution_count": 3,
   "metadata": {},
   "outputs": [
    {
     "name": "stdout",
     "output_type": "stream",
     "text": [
      "<class 'pandas.core.frame.DataFrame'>\n",
      "RangeIndex: 10500 entries, 0 to 10499\n",
      "Data columns (total 17 columns):\n",
      " #   Column         Non-Null Count  Dtype  \n",
      "---  ------         --------------  -----  \n",
      " 0   address        10500 non-null  object \n",
      " 1   cost           10154 non-null  float64\n",
      " 2   cuisine        10500 non-null  object \n",
      " 3   lat            10308 non-null  float64\n",
      " 4   link           10500 non-null  object \n",
      " 5   lng            10308 non-null  float64\n",
      " 6   phone          10500 non-null  object \n",
      " 7   rating_number  7184 non-null   float64\n",
      " 8   rating_text    7184 non-null   object \n",
      " 9   subzone        10500 non-null  object \n",
      " 10  title          10500 non-null  object \n",
      " 11  type           10452 non-null  object \n",
      " 12  votes          7184 non-null   float64\n",
      " 13  groupon        10500 non-null  bool   \n",
      " 14  color          10500 non-null  object \n",
      " 15  cost_2         10154 non-null  float64\n",
      " 16  cuisine_color  10500 non-null  object \n",
      "dtypes: bool(1), float64(6), object(10)\n",
      "memory usage: 1.3+ MB\n"
     ]
    }
   ],
   "source": [
    "# df info\n",
    "df.info()"
   ]
  },
  {
   "cell_type": "code",
   "execution_count": 4,
   "metadata": {},
   "outputs": [
    {
     "data": {
      "text/html": [
       "<div>\n",
       "<style scoped>\n",
       "    .dataframe tbody tr th:only-of-type {\n",
       "        vertical-align: middle;\n",
       "    }\n",
       "\n",
       "    .dataframe tbody tr th {\n",
       "        vertical-align: top;\n",
       "    }\n",
       "\n",
       "    .dataframe thead th {\n",
       "        text-align: right;\n",
       "    }\n",
       "</style>\n",
       "<table border=\"1\" class=\"dataframe\">\n",
       "  <thead>\n",
       "    <tr style=\"text-align: right;\">\n",
       "      <th></th>\n",
       "      <th>address</th>\n",
       "      <th>cost</th>\n",
       "      <th>cuisine</th>\n",
       "      <th>lat</th>\n",
       "      <th>link</th>\n",
       "      <th>lng</th>\n",
       "      <th>phone</th>\n",
       "      <th>rating_number</th>\n",
       "      <th>rating_text</th>\n",
       "      <th>subzone</th>\n",
       "      <th>title</th>\n",
       "      <th>type</th>\n",
       "      <th>votes</th>\n",
       "      <th>groupon</th>\n",
       "      <th>color</th>\n",
       "      <th>cost_2</th>\n",
       "      <th>cuisine_color</th>\n",
       "    </tr>\n",
       "  </thead>\n",
       "  <tbody>\n",
       "    <tr>\n",
       "      <th>0</th>\n",
       "      <td>371A Pitt Street, CBD, Sydney</td>\n",
       "      <td>50.0</td>\n",
       "      <td>['Hot Pot', 'Korean BBQ', 'BBQ', 'Korean']</td>\n",
       "      <td>-33.876059</td>\n",
       "      <td>https://www.zomato.com/sydney/sydney-madang-cbd</td>\n",
       "      <td>151.207605</td>\n",
       "      <td>02 8318 0406</td>\n",
       "      <td>4.0</td>\n",
       "      <td>Very Good</td>\n",
       "      <td>CBD</td>\n",
       "      <td>Sydney Madang</td>\n",
       "      <td>['Casual Dining']</td>\n",
       "      <td>1311.0</td>\n",
       "      <td>False</td>\n",
       "      <td>#e15307</td>\n",
       "      <td>5.243902</td>\n",
       "      <td>#6f706b</td>\n",
       "    </tr>\n",
       "    <tr>\n",
       "      <th>1</th>\n",
       "      <td>Shop 7A, 2 Huntley Street, Alexandria, Sydney</td>\n",
       "      <td>80.0</td>\n",
       "      <td>['Cafe', 'Coffee and Tea', 'Salad', 'Poké']</td>\n",
       "      <td>-33.910999</td>\n",
       "      <td>https://www.zomato.com/sydney/the-grounds-of-a...</td>\n",
       "      <td>151.193793</td>\n",
       "      <td>02 9699 2225</td>\n",
       "      <td>4.6</td>\n",
       "      <td>Excellent</td>\n",
       "      <td>The Grounds of Alexandria, Alexandria</td>\n",
       "      <td>The Grounds of Alexandria Cafe</td>\n",
       "      <td>['Café']</td>\n",
       "      <td>3236.0</td>\n",
       "      <td>False</td>\n",
       "      <td>#9c3203</td>\n",
       "      <td>7.560976</td>\n",
       "      <td>#6f706b</td>\n",
       "    </tr>\n",
       "    <tr>\n",
       "      <th>2</th>\n",
       "      <td>Level G, The Darling at the Star, 80 Pyrmont ...</td>\n",
       "      <td>120.0</td>\n",
       "      <td>['Japanese']</td>\n",
       "      <td>-33.867971</td>\n",
       "      <td>https://www.zomato.com/sydney/sokyo-pyrmont</td>\n",
       "      <td>151.195210</td>\n",
       "      <td>1800 700 700</td>\n",
       "      <td>4.9</td>\n",
       "      <td>Excellent</td>\n",
       "      <td>The Star, Pyrmont</td>\n",
       "      <td>Sokyo</td>\n",
       "      <td>['Fine Dining']</td>\n",
       "      <td>1227.0</td>\n",
       "      <td>False</td>\n",
       "      <td>#7f2704</td>\n",
       "      <td>10.650407</td>\n",
       "      <td>#6f706b</td>\n",
       "    </tr>\n",
       "    <tr>\n",
       "      <th>3</th>\n",
       "      <td>Sydney Opera House, Bennelong Point, Circular...</td>\n",
       "      <td>270.0</td>\n",
       "      <td>['Modern Australian']</td>\n",
       "      <td>-33.856784</td>\n",
       "      <td>https://www.zomato.com/sydney/bennelong-restau...</td>\n",
       "      <td>151.215297</td>\n",
       "      <td>02 9240 8000</td>\n",
       "      <td>4.9</td>\n",
       "      <td>Excellent</td>\n",
       "      <td>Circular Quay</td>\n",
       "      <td>Bennelong Restaurant</td>\n",
       "      <td>['Fine Dining', 'Bar']</td>\n",
       "      <td>278.0</td>\n",
       "      <td>False</td>\n",
       "      <td>#7f2704</td>\n",
       "      <td>22.235772</td>\n",
       "      <td>#4186f4</td>\n",
       "    </tr>\n",
       "    <tr>\n",
       "      <th>4</th>\n",
       "      <td>20 Campbell Street, Chinatown, Sydney</td>\n",
       "      <td>55.0</td>\n",
       "      <td>['Thai', 'Salad']</td>\n",
       "      <td>-33.879035</td>\n",
       "      <td>https://www.zomato.com/sydney/chat-thai-chinatown</td>\n",
       "      <td>151.206409</td>\n",
       "      <td>02 8317 4811</td>\n",
       "      <td>4.5</td>\n",
       "      <td>Excellent</td>\n",
       "      <td>Chinatown</td>\n",
       "      <td>Chat Thai</td>\n",
       "      <td>['Casual Dining']</td>\n",
       "      <td>2150.0</td>\n",
       "      <td>False</td>\n",
       "      <td>#a83703</td>\n",
       "      <td>5.630081</td>\n",
       "      <td>#6f706b</td>\n",
       "    </tr>\n",
       "  </tbody>\n",
       "</table>\n",
       "</div>"
      ],
      "text/plain": [
       "                                             address   cost  \\\n",
       "0                      371A Pitt Street, CBD, Sydney   50.0   \n",
       "1      Shop 7A, 2 Huntley Street, Alexandria, Sydney   80.0   \n",
       "2   Level G, The Darling at the Star, 80 Pyrmont ...  120.0   \n",
       "3   Sydney Opera House, Bennelong Point, Circular...  270.0   \n",
       "4              20 Campbell Street, Chinatown, Sydney   55.0   \n",
       "\n",
       "                                       cuisine        lat  \\\n",
       "0   ['Hot Pot', 'Korean BBQ', 'BBQ', 'Korean'] -33.876059   \n",
       "1  ['Cafe', 'Coffee and Tea', 'Salad', 'Poké'] -33.910999   \n",
       "2                                 ['Japanese'] -33.867971   \n",
       "3                        ['Modern Australian'] -33.856784   \n",
       "4                            ['Thai', 'Salad'] -33.879035   \n",
       "\n",
       "                                                link         lng  \\\n",
       "0    https://www.zomato.com/sydney/sydney-madang-cbd  151.207605   \n",
       "1  https://www.zomato.com/sydney/the-grounds-of-a...  151.193793   \n",
       "2        https://www.zomato.com/sydney/sokyo-pyrmont  151.195210   \n",
       "3  https://www.zomato.com/sydney/bennelong-restau...  151.215297   \n",
       "4  https://www.zomato.com/sydney/chat-thai-chinatown  151.206409   \n",
       "\n",
       "          phone  rating_number rating_text  \\\n",
       "0  02 8318 0406            4.0   Very Good   \n",
       "1  02 9699 2225            4.6   Excellent   \n",
       "2  1800 700 700            4.9   Excellent   \n",
       "3  02 9240 8000            4.9   Excellent   \n",
       "4  02 8317 4811            4.5   Excellent   \n",
       "\n",
       "                                 subzone                           title  \\\n",
       "0                                    CBD                   Sydney Madang   \n",
       "1  The Grounds of Alexandria, Alexandria  The Grounds of Alexandria Cafe   \n",
       "2                      The Star, Pyrmont                           Sokyo   \n",
       "3                          Circular Quay            Bennelong Restaurant   \n",
       "4                              Chinatown                       Chat Thai   \n",
       "\n",
       "                     type   votes  groupon    color     cost_2 cuisine_color  \n",
       "0       ['Casual Dining']  1311.0    False  #e15307   5.243902       #6f706b  \n",
       "1                ['Café']  3236.0    False  #9c3203   7.560976       #6f706b  \n",
       "2         ['Fine Dining']  1227.0    False  #7f2704  10.650407       #6f706b  \n",
       "3  ['Fine Dining', 'Bar']   278.0    False  #7f2704  22.235772       #4186f4  \n",
       "4       ['Casual Dining']  2150.0    False  #a83703   5.630081       #6f706b  "
      ]
     },
     "execution_count": 4,
     "metadata": {},
     "output_type": "execute_result"
    }
   ],
   "source": [
    "# df head\n",
    "df.head()"
   ]
  },
  {
   "cell_type": "markdown",
   "metadata": {},
   "source": [
    "#### Data Exploration and feature engineering\n",
    "\n",
    "In this phase we will do the following:\n",
    "\n",
    "- remove useless columns\n",
    "- check and remove duplicate records\n",
    "- check the missing value count for each columns and handle it\n"
   ]
  },
  {
   "cell_type": "markdown",
   "metadata": {},
   "source": [
    "#### Remove columns\n",
    "\n",
    "As our objective is to predict the restaurant rating, we will remove some of the fields that may not as useful in predicting it. I have identifies the following fields as less useful:\n",
    "\n",
    "- address (the relevant information can be extracted from subzone)\n",
    "- Cuisines (the cuisines column contains a multiple cuisines, from the data exploration phase we have identified that there isn't any significant influence in rating with the cuisines)\n",
    "- link\n",
    "- phone\n",
    "- rating text (directly related to rating number)\n",
    "- title\n",
    "- groupon (variable with negligile variance)\n",
    "- color\n",
    "- cuisine_color\n"
   ]
  }
 ],
 "metadata": {
  "kernelspec": {
   "display_name": "base",
   "language": "python",
   "name": "python3"
  },
  "language_info": {
   "codemirror_mode": {
    "name": "ipython",
    "version": 3
   },
   "file_extension": ".py",
   "mimetype": "text/x-python",
   "name": "python",
   "nbconvert_exporter": "python",
   "pygments_lexer": "ipython3",
   "version": "3.11.5"
  }
 },
 "nbformat": 4,
 "nbformat_minor": 2
}

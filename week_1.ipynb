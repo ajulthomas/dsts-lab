{
 "cells": [
  {
   "cell_type": "markdown",
   "id": "bb516940-778f-4e7e-b897-9a7aec73d464",
   "metadata": {},
   "source": [
    "# Week 1 - Introduction"
   ]
  },
  {
   "cell_type": "markdown",
   "id": "ce8520fc-a58d-4397-b5ea-f9083544411e",
   "metadata": {},
   "source": [
    "### Excercise - 1"
   ]
  },
  {
   "cell_type": "code",
   "execution_count": 5,
   "id": "ace8969d-9dba-4c01-90e7-fe34e29425c0",
   "metadata": {},
   "outputs": [
    {
     "name": "stdout",
     "output_type": "stream",
     "text": [
      "Hello World\n",
      "what's your name ?\n"
     ]
    },
    {
     "name": "stdin",
     "output_type": "stream",
     "text": [
      " Ajul\n"
     ]
    },
    {
     "name": "stdout",
     "output_type": "stream",
     "text": [
      "It's goog to meet you, Ajul\n",
      "Your name is of length 4\n",
      "whats's your age ? \n"
     ]
    },
    {
     "name": "stdin",
     "output_type": "stream",
     "text": [
      " 27\n"
     ]
    },
    {
     "name": "stdout",
     "output_type": "stream",
     "text": [
      "You will be 28 years old in a year\n"
     ]
    }
   ],
   "source": [
    "print(\"Hello World\")\n",
    "print(\"what's your name ?\")\n",
    "name = input()\n",
    "print(\"It's goog to meet you, \" + name)\n",
    "print(\"Your name is of length \" + str(len(name)))\n",
    "print(\"whats's your age ? \")\n",
    "age = input()\n",
    "print(\"You will be \"+str(int(age)+1)+\" years old in a year\")"
   ]
  },
  {
   "cell_type": "markdown",
   "id": "5735f56a-7380-4fd0-b037-7604c5acd0f9",
   "metadata": {},
   "source": [
    "### Excercise - 2 "
   ]
  },
  {
   "cell_type": "code",
   "execution_count": 11,
   "id": "3fdfcc8e-8979-4986-9baa-954bc9e56ce4",
   "metadata": {},
   "outputs": [
    {
     "name": "stdout",
     "output_type": "stream",
     "text": [
      "1.25.2\n",
      "openblas64__info:\n",
      "    libraries = ['openblas64_', 'openblas64_']\n",
      "    library_dirs = ['openblas\\\\lib']\n",
      "    language = c\n",
      "    define_macros = [('HAVE_CBLAS', None), ('BLAS_SYMBOL_SUFFIX', '64_'), ('HAVE_BLAS_ILP64', None)]\n",
      "    runtime_library_dirs = ['openblas\\\\lib']\n",
      "blas_ilp64_opt_info:\n",
      "    libraries = ['openblas64_', 'openblas64_']\n",
      "    library_dirs = ['openblas\\\\lib']\n",
      "    language = c\n",
      "    define_macros = [('HAVE_CBLAS', None), ('BLAS_SYMBOL_SUFFIX', '64_'), ('HAVE_BLAS_ILP64', None)]\n",
      "    runtime_library_dirs = ['openblas\\\\lib']\n",
      "openblas64__lapack_info:\n",
      "    libraries = ['openblas64_', 'openblas64_']\n",
      "    library_dirs = ['openblas\\\\lib']\n",
      "    language = c\n",
      "    define_macros = [('HAVE_CBLAS', None), ('BLAS_SYMBOL_SUFFIX', '64_'), ('HAVE_BLAS_ILP64', None), ('HAVE_LAPACKE', None)]\n",
      "    runtime_library_dirs = ['openblas\\\\lib']\n",
      "lapack_ilp64_opt_info:\n",
      "    libraries = ['openblas64_', 'openblas64_']\n",
      "    library_dirs = ['openblas\\\\lib']\n",
      "    language = c\n",
      "    define_macros = [('HAVE_CBLAS', None), ('BLAS_SYMBOL_SUFFIX', '64_'), ('HAVE_BLAS_ILP64', None), ('HAVE_LAPACKE', None)]\n",
      "    runtime_library_dirs = ['openblas\\\\lib']\n",
      "Supported SIMD extensions in this NumPy install:\n",
      "    baseline = SSE,SSE2,SSE3\n",
      "    found = SSSE3,SSE41,POPCNT,SSE42,AVX,F16C,FMA3,AVX2\n",
      "    not found = AVX512F,AVX512CD,AVX512_SKX,AVX512_CLX,AVX512_CNL,AVX512_ICL\n"
     ]
    }
   ],
   "source": [
    "import numpy as np\n",
    "\n",
    "print(np.__version__)\n",
    "np.show_config()"
   ]
  },
  {
   "cell_type": "code",
   "execution_count": 19,
   "id": "c54c6d1e-f5ac-4288-bff1-9767d582a43b",
   "metadata": {},
   "outputs": [
    {
     "data": {
      "text/plain": [
       "1"
      ]
     },
     "execution_count": 19,
     "metadata": {},
     "output_type": "execute_result"
    }
   ],
   "source": [
    "a = np.arange(10)\n",
    "# a.ndim\n",
    "# a.shape\n",
    "# a.size"
   ]
  },
  {
   "cell_type": "code",
   "execution_count": 21,
   "id": "79fb876b-2fd1-46ae-96f4-427ea7eb1bd9",
   "metadata": {},
   "outputs": [
    {
     "data": {
      "text/plain": [
       "(10,)"
      ]
     },
     "execution_count": 21,
     "metadata": {},
     "output_type": "execute_result"
    }
   ],
   "source": [
    "z = np.zeros(10)\n",
    "z.shape"
   ]
  },
  {
   "cell_type": "code",
   "execution_count": 27,
   "id": "9721fabd-8233-4a2a-b853-17ddd3516dca",
   "metadata": {},
   "outputs": [],
   "source": [
    "ar = np.arange(10, 51)"
   ]
  },
  {
   "cell_type": "code",
   "execution_count": 28,
   "id": "a5ccffe0-88fc-479a-8e6b-5e1eb6db3a8d",
   "metadata": {},
   "outputs": [
    {
     "data": {
      "text/plain": [
       "array([50, 49, 48, 47, 46, 45, 44, 43, 42, 41, 40, 39, 38, 37, 36, 35, 34,\n",
       "       33, 32, 31, 30, 29, 28, 27, 26, 25, 24, 23, 22, 21, 20, 19, 18, 17,\n",
       "       16, 15, 14, 13, 12, 11, 10])"
      ]
     },
     "execution_count": 28,
     "metadata": {},
     "output_type": "execute_result"
    }
   ],
   "source": [
    "np.flip(ar)"
   ]
  },
  {
   "cell_type": "code",
   "execution_count": 30,
   "id": "a9af9c54-bb54-4586-a132-bba1c3943944",
   "metadata": {},
   "outputs": [
    {
     "data": {
      "text/plain": [
       "array([[0, 1, 2],\n",
       "       [3, 4, 5],\n",
       "       [6, 7, 8]])"
      ]
     },
     "execution_count": 30,
     "metadata": {},
     "output_type": "execute_result"
    }
   ],
   "source": [
    "np.arange(0,9).reshape((3,3))"
   ]
  },
  {
   "cell_type": "code",
   "execution_count": 31,
   "id": "b9945a1c-ca51-4101-85bd-17873d92e9c2",
   "metadata": {},
   "outputs": [],
   "source": [
    "values = [1,2,0,0,4,0]"
   ]
  },
  {
   "cell_type": "code",
   "execution_count": 33,
   "id": "286a9489-e2de-4341-85fb-e0c0662ca129",
   "metadata": {},
   "outputs": [
    {
     "data": {
      "text/plain": [
       "(array([0, 1, 4], dtype=int64),)"
      ]
     },
     "execution_count": 33,
     "metadata": {},
     "output_type": "execute_result"
    }
   ],
   "source": [
    "np.nonzero(values)"
   ]
  },
  {
   "cell_type": "code",
   "execution_count": 34,
   "id": "f6b729d2-b4c2-48ce-9312-802c07790e28",
   "metadata": {},
   "outputs": [
    {
     "data": {
      "text/plain": [
       "array([[[0.64972488, 0.43043214, 0.45908175],\n",
       "        [0.05840861, 0.5443019 , 0.76959131],\n",
       "        [0.88336894, 0.86287448, 0.42781325]],\n",
       "\n",
       "       [[0.56462561, 0.09283394, 0.60955775],\n",
       "        [0.80514002, 0.91165503, 0.14244558],\n",
       "        [0.82510831, 0.65159305, 0.08066789]],\n",
       "\n",
       "       [[0.45425043, 0.50170915, 0.25424418],\n",
       "        [0.16795641, 0.83837875, 0.44821482],\n",
       "        [0.68578824, 0.93713901, 0.57160288]]])"
      ]
     },
     "execution_count": 34,
     "metadata": {},
     "output_type": "execute_result"
    }
   ],
   "source": [
    "np.random.rand(3,3,3)"
   ]
  },
  {
   "cell_type": "code",
   "execution_count": 37,
   "id": "4eda2e21-2db7-40ec-b417-ee458a7d1c83",
   "metadata": {},
   "outputs": [
    {
     "data": {
      "text/plain": [
       "array([[0.20797275, 0.44605202, 0.43599087, 0.56652224, 0.28115736,\n",
       "        0.12861844, 0.56546567, 0.50570238, 0.66598202, 0.11822404],\n",
       "       [0.86979662, 0.97238444, 0.77872923, 0.08789247, 0.88973752,\n",
       "        0.60797359, 0.37591358, 0.65368214, 0.71105891, 0.25480456],\n",
       "       [0.69698265, 0.17722766, 0.91861112, 0.58240374, 0.24924861,\n",
       "        0.81196381, 0.57494417, 0.52503769, 0.16364461, 0.20483898],\n",
       "       [0.56510808, 0.81667289, 0.54536761, 0.58332637, 0.08144292,\n",
       "        0.79487846, 0.77256533, 0.67621115, 0.23618858, 0.7582236 ],\n",
       "       [0.92907131, 0.2141553 , 0.07390286, 0.77282632, 0.40310976,\n",
       "        0.73812428, 0.89582205, 0.96502741, 0.26043261, 0.8714708 ],\n",
       "       [0.50215582, 0.73242148, 0.98384677, 0.6385729 , 0.6259941 ,\n",
       "        0.08383909, 0.97888412, 0.1693354 , 0.93309054, 0.8240597 ],\n",
       "       [0.94149541, 0.01031847, 0.39620786, 0.81325628, 0.12713286,\n",
       "        0.04457063, 0.24866572, 0.59584918, 0.68591249, 0.00790757],\n",
       "       [0.91995485, 0.87547338, 0.19381379, 0.24474472, 0.76832371,\n",
       "        0.2497486 , 0.86867297, 0.89199846, 0.49302729, 0.95204372],\n",
       "       [0.82873479, 0.94047387, 0.86578148, 0.34392717, 0.0085131 ,\n",
       "        0.6400943 , 0.61673306, 0.88298337, 0.68529162, 0.63686493],\n",
       "       [0.41875073, 0.71283851, 0.91369824, 0.77846744, 0.75680829,\n",
       "        0.41405989, 0.78975165, 0.13855288, 0.61954039, 0.61143171]])"
      ]
     },
     "execution_count": 37,
     "metadata": {},
     "output_type": "execute_result"
    }
   ],
   "source": [
    "rand_ten = np.random.rand(10,10)\n",
    "rand_ten"
   ]
  },
  {
   "cell_type": "code",
   "execution_count": 38,
   "id": "35fc399a-5d11-4f57-b504-56060244a25d",
   "metadata": {},
   "outputs": [
    {
     "data": {
      "text/plain": [
       "0.9838467707479538"
      ]
     },
     "execution_count": 38,
     "metadata": {},
     "output_type": "execute_result"
    }
   ],
   "source": [
    "np.max(rand_ten)"
   ]
  },
  {
   "cell_type": "code",
   "execution_count": 39,
   "id": "30d7bc29-704f-48b3-843a-8a679c0ff984",
   "metadata": {},
   "outputs": [
    {
     "data": {
      "text/plain": [
       "0.007907566972787161"
      ]
     },
     "execution_count": 39,
     "metadata": {},
     "output_type": "execute_result"
    }
   ],
   "source": [
    "np.min(rand_ten)"
   ]
  },
  {
   "cell_type": "code",
   "execution_count": 40,
   "id": "f2c84fbb-eda3-494f-84da-00d754267ea6",
   "metadata": {},
   "outputs": [
    {
     "data": {
      "text/plain": [
       "array([0.49036283, 0.27861382, 0.04201078, 0.760032  , 0.43344494,\n",
       "       0.64390202, 0.72520606, 0.30823849, 0.45098877, 0.44851524,\n",
       "       0.89128057, 0.48865447, 0.31490029, 0.71573991, 0.26667093,\n",
       "       0.59352392, 0.03864086, 0.90176468, 0.61058687, 0.12354383,\n",
       "       0.07800835, 0.94384703, 0.30456936, 0.82829148, 0.94926836,\n",
       "       0.5726025 , 0.96854156, 0.76789945, 0.81755515, 0.90603306])"
      ]
     },
     "execution_count": 40,
     "metadata": {},
     "output_type": "execute_result"
    }
   ],
   "source": [
    "rand_thirty = np.random.rand(30)\n",
    "rand_thirty"
   ]
  },
  {
   "cell_type": "code",
   "execution_count": 41,
   "id": "be42d674-0c83-42db-b3b8-b33ecdc7818e",
   "metadata": {},
   "outputs": [
    {
     "data": {
      "text/plain": [
       "0.5554412532810231"
      ]
     },
     "execution_count": 41,
     "metadata": {},
     "output_type": "execute_result"
    }
   ],
   "source": [
    "np.mean(rand_thirty)"
   ]
  },
  {
   "cell_type": "code",
   "execution_count": 43,
   "id": "da1c6aff-6e19-45f5-9ecb-27ce36e59fd5",
   "metadata": {},
   "outputs": [
    {
     "data": {
      "text/plain": [
       "array([[1., 1., 1., 1., 1., 1., 1., 1., 1., 1.],\n",
       "       [1., 1., 1., 1., 1., 1., 1., 1., 1., 1.],\n",
       "       [1., 1., 1., 1., 1., 1., 1., 1., 1., 1.],\n",
       "       [1., 1., 1., 1., 1., 1., 1., 1., 1., 1.],\n",
       "       [1., 1., 1., 1., 1., 1., 1., 1., 1., 1.],\n",
       "       [1., 1., 1., 1., 1., 1., 1., 1., 1., 1.],\n",
       "       [1., 1., 1., 1., 1., 1., 1., 1., 1., 1.],\n",
       "       [1., 1., 1., 1., 1., 1., 1., 1., 1., 1.],\n",
       "       [1., 1., 1., 1., 1., 1., 1., 1., 1., 1.],\n",
       "       [1., 1., 1., 1., 1., 1., 1., 1., 1., 1.]])"
      ]
     },
     "execution_count": 43,
     "metadata": {},
     "output_type": "execute_result"
    }
   ],
   "source": [
    "x = np.ones((10,10))\n",
    "x"
   ]
  },
  {
   "cell_type": "code",
   "execution_count": 45,
   "id": "9dd9a330-df6c-41f8-8800-42ec2eb7b2fb",
   "metadata": {},
   "outputs": [
    {
     "data": {
      "text/plain": [
       "array([[1., 1., 1., 1., 1., 1., 1., 1., 1., 1.],\n",
       "       [1., 0., 0., 0., 0., 0., 0., 0., 0., 1.],\n",
       "       [1., 0., 0., 0., 0., 0., 0., 0., 0., 1.],\n",
       "       [1., 0., 0., 0., 0., 0., 0., 0., 0., 1.],\n",
       "       [1., 0., 0., 0., 0., 0., 0., 0., 0., 1.],\n",
       "       [1., 0., 0., 0., 0., 0., 0., 0., 0., 1.],\n",
       "       [1., 0., 0., 0., 0., 0., 0., 0., 0., 1.],\n",
       "       [1., 0., 0., 0., 0., 0., 0., 0., 0., 1.],\n",
       "       [1., 0., 0., 0., 0., 0., 0., 0., 0., 1.],\n",
       "       [1., 1., 1., 1., 1., 1., 1., 1., 1., 1.]])"
      ]
     },
     "execution_count": 45,
     "metadata": {},
     "output_type": "execute_result"
    }
   ],
   "source": [
    "x[1:-1, 1:-1] = 0\n",
    "x"
   ]
  },
  {
   "cell_type": "code",
   "execution_count": 46,
   "id": "94ae6ee9-f6d2-4f47-bdd8-b46aebd8d7f2",
   "metadata": {},
   "outputs": [
    {
     "data": {
      "text/plain": [
       "array([[0.28124672, 0.96370479, 0.03950715],\n",
       "       [0.90777592, 0.16209906, 0.10929917],\n",
       "       [0.79196289, 0.53251179, 0.3572762 ],\n",
       "       [0.67171759, 0.50353685, 0.6257316 ],\n",
       "       [0.48879334, 0.38292625, 0.02945543]])"
      ]
     },
     "execution_count": 46,
     "metadata": {},
     "output_type": "execute_result"
    }
   ],
   "source": [
    "m1 = np.random.rand(5,3)\n",
    "m1"
   ]
  },
  {
   "cell_type": "code",
   "execution_count": 47,
   "id": "0ed4f5d6-9898-4c93-8bf3-ed14a6d59cb6",
   "metadata": {},
   "outputs": [
    {
     "data": {
      "text/plain": [
       "array([[0.61151285, 0.49794271],\n",
       "       [0.20772095, 0.68653698],\n",
       "       [0.58151661, 0.10551395]])"
      ]
     },
     "execution_count": 47,
     "metadata": {},
     "output_type": "execute_result"
    }
   ],
   "source": [
    "m2 = np.random.rand(3,2)\n",
    "m2"
   ]
  },
  {
   "cell_type": "code",
   "execution_count": 48,
   "id": "066abd05-d9a1-456b-ae8f-1222d3ae1f50",
   "metadata": {},
   "outputs": [
    {
     "data": {
      "text/plain": [
       "array([[0.39514173, 0.80583228],\n",
       "       [0.6523473 , 0.57483999],\n",
       "       [0.80267138, 0.7976388 ],\n",
       "       [0.87923241, 0.74619696],\n",
       "       [0.39557404, 0.50939207]])"
      ]
     },
     "execution_count": 48,
     "metadata": {},
     "output_type": "execute_result"
    }
   ],
   "source": [
    "np.dot(m1,m2)"
   ]
  },
  {
   "cell_type": "code",
   "execution_count": 49,
   "id": "bf53e302-5a54-4c63-8ecc-bbba483c7027",
   "metadata": {},
   "outputs": [
    {
     "data": {
      "text/plain": [
       "array([[0.39514173, 0.80583228],\n",
       "       [0.6523473 , 0.57483999],\n",
       "       [0.80267138, 0.7976388 ],\n",
       "       [0.87923241, 0.74619696],\n",
       "       [0.39557404, 0.50939207]])"
      ]
     },
     "execution_count": 49,
     "metadata": {},
     "output_type": "execute_result"
    }
   ],
   "source": [
    "np.matmul(m1,m2)"
   ]
  },
  {
   "cell_type": "code",
   "execution_count": 53,
   "id": "83cc5b6b-ab1f-4576-8ae0-5b2c1607d829",
   "metadata": {},
   "outputs": [],
   "source": [
    "a1 = np.arange(1,5)\n",
    "a2 = np.arange(2,6)"
   ]
  },
  {
   "cell_type": "code",
   "execution_count": 54,
   "id": "a4c9d8fc-559f-46e3-8704-455121659b3c",
   "metadata": {},
   "outputs": [
    {
     "data": {
      "text/plain": [
       "array([1, 2, 3, 4])"
      ]
     },
     "execution_count": 54,
     "metadata": {},
     "output_type": "execute_result"
    }
   ],
   "source": [
    "a1"
   ]
  },
  {
   "cell_type": "code",
   "execution_count": 55,
   "id": "ce8643bc-444c-43a7-a6e5-d44d708ae3d9",
   "metadata": {},
   "outputs": [
    {
     "data": {
      "text/plain": [
       "array([2, 3, 4, 5])"
      ]
     },
     "execution_count": 55,
     "metadata": {},
     "output_type": "execute_result"
    }
   ],
   "source": [
    "a2"
   ]
  },
  {
   "cell_type": "code",
   "execution_count": 56,
   "id": "55130fc0-623c-4e5a-9b50-fe1f76eb89ee",
   "metadata": {},
   "outputs": [
    {
     "data": {
      "text/plain": [
       "array([ 2,  6, 12, 20])"
      ]
     },
     "execution_count": 56,
     "metadata": {},
     "output_type": "execute_result"
    }
   ],
   "source": [
    "a1*a2"
   ]
  }
 ],
 "metadata": {
  "kernelspec": {
   "display_name": "Python 3 (ipykernel)",
   "language": "python",
   "name": "python3"
  },
  "language_info": {
   "codemirror_mode": {
    "name": "ipython",
    "version": 3
   },
   "file_extension": ".py",
   "mimetype": "text/x-python",
   "name": "python",
   "nbconvert_exporter": "python",
   "pygments_lexer": "ipython3",
   "version": "3.11.5"
  }
 },
 "nbformat": 4,
 "nbformat_minor": 5
}
